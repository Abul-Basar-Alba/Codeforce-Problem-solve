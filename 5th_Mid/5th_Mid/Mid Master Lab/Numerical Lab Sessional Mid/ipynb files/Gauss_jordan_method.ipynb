{
 "cells": [
  {
   "cell_type": "code",
   "execution_count": 1,
   "id": "b35b8eeb-b751-4c4d-b82c-a0f8c143d728",
   "metadata": {},
   "outputs": [
    {
     "name": "stdout",
     "output_type": "stream",
     "text": [
      "Solution: [ 2.  3. -1.]\n"
     ]
    }
   ],
   "source": [
    "import numpy as np\n",
    "\n",
    "def gauss_jordan(a, b):\n",
    "\n",
    "    a = np.array(a, dtype=float)\n",
    "    b = np.array(b, dtype=float)\n",
    "    aug_matrix = np.hstack((a, b.reshape(-1, 1)))\n",
    "    \n",
    "    rows, cols = aug_matrix.shape\n",
    "    \n",
    "    for i in range(rows):\n",
    "        \n",
    "        pivot = aug_matrix[i, i]\n",
    "        if pivot == 0:\n",
    "            \n",
    "            for k in range(i + 1, rows):\n",
    "                if aug_matrix[k, i] != 0:\n",
    "                    aug_matrix[[i, k]] = aug_matrix[[k, i]]\n",
    "                    pivot = aug_matrix[i, i]\n",
    "                    break\n",
    "        aug_matrix[i] = aug_matrix[i] / pivot\n",
    "        \n",
    "       \n",
    "        for j in range(rows):\n",
    "            if j != i:\n",
    "                factor = aug_matrix[j, i]\n",
    "                aug_matrix[j] -= factor * aug_matrix[i]\n",
    "    \n",
    "   \n",
    "    return aug_matrix[:, -1]\n",
    "\n",
    "# Example system:\n",
    "#  2x +  y -  z = 8\n",
    "# -3x -  y + 2z = -11\n",
    "# -2x +  y + 2z = -3\n",
    "A = [\n",
    "    [2, 1, -1],\n",
    "    [-3, -1, 2],\n",
    "    [-2, 1, 2]\n",
    "]\n",
    "B = [8, -11, -3]\n",
    "\n",
    "solution = gauss_jordan(A, B)\n",
    "print(\"Solution:\", solution)\n"
   ]
  },
  {
   "cell_type": "code",
   "execution_count": null,
   "id": "046928b2-dc19-43da-b3d2-aabf4c3798cf",
   "metadata": {},
   "outputs": [],
   "source": []
  }
 ],
 "metadata": {
  "kernelspec": {
   "display_name": "Python 3",
   "language": "python",
   "name": "python3"
  },
  "language_info": {
   "codemirror_mode": {
    "name": "ipython",
    "version": 3
   },
   "file_extension": ".py",
   "mimetype": "text/x-python",
   "name": "python",
   "nbconvert_exporter": "python",
   "pygments_lexer": "ipython3",
   "version": "3.13.7"
  }
 },
 "nbformat": 4,
 "nbformat_minor": 5
}
