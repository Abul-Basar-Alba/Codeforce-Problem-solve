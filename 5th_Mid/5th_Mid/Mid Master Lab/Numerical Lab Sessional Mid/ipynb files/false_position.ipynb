{
 "cells": [
  {
   "cell_type": "code",
   "execution_count": 1,
   "id": "6dfd4c12",
   "metadata": {},
   "outputs": [
    {
     "name": "stdout",
     "output_type": "stream",
     "text": [
      "Root found: 2.094551\n",
      "Iterations: 14\n",
      "f(root) = -9.311340e-07\n"
     ]
    }
   ],
   "source": [
    "def false_position(f, a, b, tol=1e-6, max_iter=100):\n",
    "    \"\"\"\n",
    "    Finds the root of a function f in the interval [a, b] using the False Position Method.\n",
    "    \n",
    "    Parameters:\n",
    "    f (function): The function whose root is to be found.\n",
    "    a (float): Left endpoint of the initial interval.\n",
    "    b (float): Right endpoint of the initial interval.\n",
    "    tol (float): Tolerance for convergence (default: 1e-6).\n",
    "    max_iter (int): Maximum number of iterations (default: 100).\n",
    "    \n",
    "    Returns:\n",
    "    float: Approximate root of the function.\n",
    "    int: Number of iterations performed.\n",
    "    \"\"\"\n",
    "    if f(a) * f(b) >= 0:\n",
    "        raise ValueError(\"Function must change sign over the interval [a, b].\")\n",
    "    \n",
    "    for i in range(max_iter):\n",
    "        # Calculate the next estimate using linear interpolation\n",
    "        c = (a * f(b) - b * f(a)) / (f(b) - f(a))\n",
    "        \n",
    "        # Check for convergence\n",
    "        if abs(f(c)) < tol:\n",
    "            return c, i + 1\n",
    "        \n",
    "        # Update the interval\n",
    "        if f(a) * f(c) < 0:\n",
    "            b = c\n",
    "        else:\n",
    "            a = c\n",
    "    \n",
    "    # Return the best estimate if max_iter is reached\n",
    "    return c, max_iter\n",
    "\n",
    "# Example usage: Solve x^3 - 2x - 5 = 0 in [2, 3]\n",
    "if __name__ == \"__main__\":\n",
    "    # Define the function\n",
    "    def f(x):\n",
    "        return x**3 - 2*x - 5\n",
    "    \n",
    "    # Initial interval\n",
    "    a, b = 2, 3\n",
    "    \n",
    "    try:\n",
    "        root, iterations = false_position(f, a, b)\n",
    "        print(f\"Root found: {root:.6f}\")\n",
    "        print(f\"Iterations: {iterations}\")\n",
    "        print(f\"f(root) = {f(root):.6e}\")\n",
    "    except ValueError as e:\n",
    "        print(e)"
   ]
  },
  {
   "cell_type": "code",
   "execution_count": null,
   "id": "c9cc0055",
   "metadata": {},
   "outputs": [],
   "source": []
  }
 ],
 "metadata": {
  "kernelspec": {
   "display_name": "Python 3",
   "language": "python",
   "name": "python3"
  },
  "language_info": {
   "codemirror_mode": {
    "name": "ipython",
    "version": 3
   },
   "file_extension": ".py",
   "mimetype": "text/x-python",
   "name": "python",
   "nbconvert_exporter": "python",
   "pygments_lexer": "ipython3",
   "version": "3.13.7"
  }
 },
 "nbformat": 4,
 "nbformat_minor": 5
}
